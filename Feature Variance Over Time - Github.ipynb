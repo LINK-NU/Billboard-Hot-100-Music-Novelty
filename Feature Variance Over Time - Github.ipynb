{
 "cells": [
  {
   "cell_type": "code",
   "execution_count": 4,
   "metadata": {},
   "outputs": [],
   "source": [
    "import numpy as np\n",
    "import pandas as pd\n",
    "import re \n",
    "import matplotlib\n",
    "import matplotlib.pyplot as plt\n",
    "from matplotlib.gridspec import GridSpec\n",
    "from sklearn.model_selection import train_test_split\n",
    "from sklearn.ensemble import RandomForestClassifier\n",
    "from sklearn.model_selection import cross_val_score\n",
    "from sklearn.model_selection import RepeatedKFold"
   ]
  },
  {
   "cell_type": "code",
   "execution_count": 2,
   "metadata": {},
   "outputs": [],
   "source": [
    "all_data = pd.read_csv('all_novelty.csv')"
   ]
  },
  {
   "cell_type": "code",
   "execution_count": 5,
   "metadata": {},
   "outputs": [],
   "source": [
    "x = 0\n",
    "list_n = []\n",
    "while x < len(all_data):\n",
    "    s = all_data.iloc[x]\n",
    "    clean = s['lyric_vector'].split(' ')\n",
    "    arr = []\n",
    "    for v in clean:\n",
    "        v = re.sub(r\"\\[\", \"\", v)\n",
    "        v = re.sub(r\"\\\\n\", \"\", v)\n",
    "        v = re.sub(r\"\\]\", \"\", v)\n",
    "        if v =='':\n",
    "            pass\n",
    "        else:\n",
    "            v = float(v)\n",
    "            arr.append(v)\n",
    "    vec = np.asarray(arr)\n",
    "    list_n.append(vec)\n",
    "    x +=1\n",
    "    \n",
    "all_data['lyric_vector'] = list_n"
   ]
  },
  {
   "cell_type": "code",
   "execution_count": 6,
   "metadata": {},
   "outputs": [],
   "source": [
    "all_data['Decade'] = round(all_data['Year'],-1)"
   ]
  },
  {
   "cell_type": "code",
   "execution_count": 7,
   "metadata": {},
   "outputs": [],
   "source": [
    "Macc_df = pd.DataFrame(columns = ['Rock','Country','Pop','Rap','R&B','Electronica'])\n",
    "Lacc_df = pd.DataFrame(columns = ['Rock','Country','Pop','Rap','R&B','Electronica'])"
   ]
  },
  {
   "cell_type": "code",
   "execution_count": null,
   "metadata": {},
   "outputs": [],
   "source": [
    "g_list = ['Rock','Country','Pop','Rap','R&B','Electronica']\n",
    "i = 0\n",
    "while i < 6:\n",
    "    genre = g_list[i]\n",
    "    g = all_data[all_data['allmusic_genre']=='Rock'][['allmusic_genre','Decade','key', 'energy', 'liveness', 'tempo', 'speechiness', 'acousticness', 'instrumentalness', 'mode',\n",
    "       'time_signature', 'loudness', 'valence', 'danceability', 'time_sec','lyric_vector']]\n",
    "    X = g[['key', 'energy', 'liveness', 'tempo', 'speechiness', 'acousticness', 'instrumentalness', 'mode',\n",
    "       'time_signature', 'loudness', 'valence', 'danceability', 'time_sec','lyric_vector']]\n",
    "    y = g['Decade']\n",
    "\n",
    "    rf_inst = RandomForestClassifier(n_estimators = 500, random_state=np.random.RandomState(0))\n",
    "    cv = RepeatedKFold(n_splits=5, n_repeats=5)\n",
    "    m = cross_val_score(rf_inst, X[['key', 'energy', 'liveness', 'tempo', 'speechiness', 'acousticness', 'instrumentalness', 'mode',\n",
    "           'time_signature', 'loudness', 'valence', 'danceability', 'time_sec']], y, cv = cv)\n",
    "    l = cross_val_score(rf_inst,pd.DataFrame(np.column_stack(list(zip(*X['lyric_vector'])))),y , cv = cv)\n",
    "    Macc_df[genre] = m\n",
    "    Lacc_df[genre] = l\n",
    "    i+=1"
   ]
  },
  {
   "cell_type": "code",
   "execution_count": null,
   "metadata": {},
   "outputs": [],
   "source": [
    "fig, ax = plt.subplots(6,figsize=(6,8))\n",
    "fig.tight_layout(h_pad = 3.5)\n",
    "\n",
    "g_list = ['Rock','R&B','Rap','Country','Pop','Electronica']\n",
    "i = 0\n",
    "while i < 6:\n",
    "    genre = g_list[i]\n",
    "    ax[i].boxplot([Macc_df[genre],Lacc_df[genre]], vert = False, labels = ['MIR Features','Lyric Features'])\n",
    "    ax[i].set_title(genre)\n",
    "    ax[i].set_xlabel('Model Accuracy')\n",
    "    ax[i].set_xlim((.4,.61))\n",
    "    i+=1\n",
    "    \n",
    "plt.savefig('RF_acc',bbox_inches=\"tight\")"
   ]
  }
 ],
 "metadata": {
  "kernelspec": {
   "display_name": "Python 3",
   "language": "python",
   "name": "python3"
  },
  "language_info": {
   "codemirror_mode": {
    "name": "ipython",
    "version": 3
   },
   "file_extension": ".py",
   "mimetype": "text/x-python",
   "name": "python",
   "nbconvert_exporter": "python",
   "pygments_lexer": "ipython3",
   "version": "3.8.5"
  }
 },
 "nbformat": 4,
 "nbformat_minor": 4
}
