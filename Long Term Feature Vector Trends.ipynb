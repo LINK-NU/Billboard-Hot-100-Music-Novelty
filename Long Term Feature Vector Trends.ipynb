{
 "cells": [
  {
   "cell_type": "code",
   "execution_count": null,
   "metadata": {},
   "outputs": [],
   "source": [
    "import pandas as pd\n",
    "import matplotlib as mpl\n",
    "from matplotlib import cm\n",
    "import matplotlib.pyplot as plt\n",
    "from matplotlib.colors import ListedColormap, LinearSegmentedColormap\n"
   ]
  },
  {
   "cell_type": "code",
   "execution_count": null,
   "metadata": {},
   "outputs": [],
   "source": [
    "df = pd.read_csv('Average_Genre_Positioning.csv')"
   ]
  },
  {
   "cell_type": "code",
   "execution_count": null,
   "metadata": {},
   "outputs": [],
   "source": [
    "cmap = plt.cm.viridis\n",
    "norm = mpl.colors.Normalize(vmin=1974, vmax=2013)\n",
    "viridis = cm.get_cmap('viridis', 40)\n",
    "\n",
    "fig, ax = plt.subplots(figsize=(10, 1))\n",
    "fig.colorbar(mpl.cm.ScalarMappable(norm=norm, cmap=cmap),\n",
    "             cax=ax, orientation = 'horizontal', label='Year')\n",
    "plt.tight_layout()\n",
    "\n",
    "\n",
    "\n",
    "\n",
    "for genre in ['Rock','Country','Pop','Rap','R&B','Electronica']:\n",
    "    genre_df = df[df['Genre']==genre]\n",
    "    fig, (ax1, ax2) = plt.subplots(1, 2, figsize = (12,3.5),gridspec_kw={'width_ratios': [2, 1]})\n",
    "    r = 0 \n",
    "    while r < len(genre_df):\n",
    "        ax1.scatter(genre_df['MIR_pc_1'].iloc[r],genre_df['MIR_pc_2'].iloc[r],\n",
    "                    color=viridis.colors[r], edgecolors= \"black\", zorder = 2)\n",
    "        circ = plt.Circle((genre_df['MIR_pc_1'].iloc[r],genre_df['MIR_pc_2'].iloc[r]), \n",
    "                   genre_df['MIR_range'].iloc[r]/2, color=viridis.colors[r], alpha = .5, zorder = 1)\n",
    "        ax1.add_patch(circ)\n",
    "        r +=1\n",
    "    ax1.set_title(genre + ' MIR Feature Shift')\n",
    "    ax1.set_xlabel('Principal Component 1')\n",
    "    ax1.set_ylabel('Principal Component 2')\n",
    "    \n",
    "\n",
    "    r = 0 \n",
    "    while r < len(genre_df):\n",
    "        ax2.scatter(genre_df['lyric_pc_1'].iloc[r],genre_df['lyric_pc_2'].iloc[r],\n",
    "                    color=viridis.colors[r], edgecolors= \"black\", zorder = 2)\n",
    "        circ = plt.Circle((genre_df['lyric_pc_1'].iloc[r],genre_df['lyric_pc_2'].iloc[r]), \n",
    "                   genre_df['lyric_range'].iloc[r]/2, color=viridis.colors[r], alpha = .5, zorder = 1)\n",
    "        ax2.add_patch(circ)\n",
    "        r +=1\n",
    "    ax2.set_title(genre + ' Lyric Feature Shift')\n",
    "    ax2.set_xlabel('Principal Component 1')\n",
    "    ax2.set_ylabel('Principal Component 2')\n",
    "    "
   ]
  },
  {
   "cell_type": "code",
   "execution_count": null,
   "metadata": {},
   "outputs": [],
   "source": []
  }
 ],
 "metadata": {
  "kernelspec": {
   "display_name": "Python 3",
   "language": "python",
   "name": "python3"
  },
  "language_info": {
   "codemirror_mode": {
    "name": "ipython",
    "version": 3
   },
   "file_extension": ".py",
   "mimetype": "text/x-python",
   "name": "python",
   "nbconvert_exporter": "python",
   "pygments_lexer": "ipython3",
   "version": "3.8.5"
  }
 },
 "nbformat": 4,
 "nbformat_minor": 4
}
